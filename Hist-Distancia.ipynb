{
 "cells": [
  {
   "cell_type": "code",
   "execution_count": 2,
   "metadata": {},
   "outputs": [],
   "source": [
    "import cv2\n",
    "import matplotlib.pyplot as plt\n",
    "import os\n",
    "import numpy as np"
   ]
  },
  {
   "cell_type": "code",
   "execution_count": 3,
   "metadata": {},
   "outputs": [],
   "source": [
    "BASE_PATH = './grape_base/'\n",
    "black_measles_imgs = os.listdir(BASE_PATH+'black_measles')\n",
    "black_measles_imgs = [BASE_PATH+'black_measles/'+img for img in black_measles_imgs]\n",
    "\n",
    "leaf_blight_imgs = os.listdir(BASE_PATH+'leaf_blight')\n",
    "leaf_blight_imgs = [BASE_PATH+'leaf_blight/'+img for img in leaf_blight_imgs]\n",
    "\n",
    "black_rot_imgs = os.listdir(BASE_PATH+'black_rot')\n",
    "black_rot_imgs = [BASE_PATH+'black_rot/'+img for img in black_rot_imgs]\n",
    "\n",
    "healthy_imgs = os.listdir(BASE_PATH+'healthy')\n",
    "healthy_imgs = [BASE_PATH+'healthy/'+img for img in healthy_imgs]"
   ]
  },
  {
   "cell_type": "code",
   "execution_count": 21,
   "metadata": {},
   "outputs": [],
   "source": [
    "#img as matrix\n",
    "def histograma(img):\n",
    "\n",
    "    '''\n",
    "    retorna histograma de cores da imagem\n",
    "    '''\n",
    "    WB = np.zeros(256)\n",
    "    WG = np.zeros(256)\n",
    "    WR = np.zeros(256)\n",
    "    \n",
    "    l, c, tres = img.shape\n",
    "    \n",
    "    B = img[:,:,0]\n",
    "    G = img[:,:,1]\n",
    "    R = img[:,:,2]\n",
    "    \n",
    "    img_HSV = cv2.cvtColor(img, cv2.COLOR_BGR2HSV) \n",
    "    H = img_HSV[:,:,0]\n",
    "    S = img_HSV[:,:,1]\n",
    "    V = img_HSV[:,:,2]\n",
    "    \n",
    "    THR = 50\n",
    "    \n",
    "    for i in range(l):\n",
    "        for j in range(c):\n",
    "            #filtro\n",
    "            #if(not(((S[i,j] < THR or V[i,j] < THR) or H[i,j] > 100) or (not(B[i,j] < 100)))):\n",
    "            WB[B[i,j]] = WB[B[i,j]]+1\n",
    "            WG[G[i,j]] = WG[G[i,j]]+1 \n",
    "            WR[R[i,j]] = WR[R[i,j]]+1\n",
    "          \n",
    "    for i in range(256):\n",
    "        WB[i] = WB[i]/(l*c)\n",
    "        WG[i] = WG[i]/(l*c)\n",
    "        WR[i] = WR[i]/(l*c)\n",
    "    return np.append(np.append(WB,WG),WR)"
   ]
  },
  {
   "cell_type": "code",
   "execution_count": 5,
   "metadata": {},
   "outputs": [],
   "source": [
    "def distancia(a, b):\n",
    "    M = len(a)\n",
    "    soma = 0\n",
    "    for i in range(M):\n",
    "        soma = soma + ((a[i]-b[i])**2)\n",
    "    return np.sqrt(soma) "
   ]
  },
  {
   "cell_type": "code",
   "execution_count": 6,
   "metadata": {},
   "outputs": [],
   "source": [
    "img_base = cv2.imread(healthy_imgs[0])\n",
    "histograma_base = histograma(img_base)"
   ]
  },
  {
   "cell_type": "code",
   "execution_count": 17,
   "metadata": {},
   "outputs": [],
   "source": [
    "def extrair_caracteristica(img):\n",
    "    hist = histograma(img)\n",
    "    return [distancia(histograma_base, hist)]"
   ]
  },
  {
   "cell_type": "code",
   "execution_count": 18,
   "metadata": {},
   "outputs": [
    {
     "name": "stdout",
     "output_type": "stream",
     "text": [
      "[0.1120191302254576]\n"
     ]
    }
   ],
   "source": [
    "#teste\n",
    "img = cv2.imread(black_measles_imgs[1])\n",
    "carac = extrair_caracteristica(img)\n",
    "print(carac)"
   ]
  },
  {
   "cell_type": "code",
   "execution_count": 22,
   "metadata": {},
   "outputs": [
    {
     "name": "stdout",
     "output_type": "stream",
     "text": [
      "Ending class 0\n",
      "Ending class 1\n",
      "Ending class 2\n",
      "Ending class 3\n",
      "arquivo gravado\n"
     ]
    }
   ],
   "source": [
    "from visao import gravar_arquivo_arff\n",
    "\n",
    "all_image_paths = [healthy_imgs, black_measles_imgs, leaf_blight_imgs, black_rot_imgs]\n",
    "base_leaf_deseases = []\n",
    "classes = []\n",
    "\n",
    "#extraindo as características das imagens na base de dados\n",
    "for i in range(len(all_image_paths)):\n",
    "    for img_path in all_image_paths[i]:\n",
    "        imagem = cv2.imread(img_path)\n",
    "        caracteristica = extrair_caracteristica(imagem)\n",
    "        classes.append(i)\n",
    "        base_leaf_deseases.append((caracteristica, i))\n",
    "    print('Ending class '+str(i))\n",
    "\n",
    "gravar_arquivo_arff(base_leaf_deseases, classes) "
   ]
  },
  {
   "cell_type": "code",
   "execution_count": null,
   "metadata": {},
   "outputs": [],
   "source": []
  }
 ],
 "metadata": {
  "kernelspec": {
   "display_name": "Python 3",
   "language": "python",
   "name": "python3"
  },
  "language_info": {
   "codemirror_mode": {
    "name": "ipython",
    "version": 3
   },
   "file_extension": ".py",
   "mimetype": "text/x-python",
   "name": "python",
   "nbconvert_exporter": "python",
   "pygments_lexer": "ipython3",
   "version": "3.6.5"
  }
 },
 "nbformat": 4,
 "nbformat_minor": 2
}
