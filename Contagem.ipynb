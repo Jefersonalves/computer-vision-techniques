{
 "cells": [
  {
   "cell_type": "code",
   "execution_count": null,
   "metadata": {},
   "outputs": [],
   "source": [
    "#extrator contagem de pixels\n",
    "\n",
    "import cv2\n",
    "import numpy as np\n",
    "import matplotlib.pyplot as plt\n",
    "import os\n",
    "from statistics import mode\n",
    "\n",
    "def extrair_caracteristica(img):\n",
    "    qtdeVerde = 0\n",
    "    qtdeAzul = 0\n",
    "    qtdeVermelho = 0\n",
    "    qtdeLinhas, qtdeColunas, c = img.shape\n",
    "    \n",
    "    B = img[:,:,0]\n",
    "    G = img[:,:,1]\n",
    "    R = img[:,:,2]\n",
    "    \n",
    "    img_HSV = cv2.cvtColor(img, cv2.COLOR_BGR2HSV) \n",
    "    H = img_HSV[:,:,0]\n",
    "    S = img_HSV[:,:,1]\n",
    "    V = img_HSV[:,:,2]\n",
    "    \n",
    "    THR = 50\n",
    "    \n",
    "    for i in range(qtdeLinhas):\n",
    "        for j in range(qtdeColunas):\n",
    "            if(not(((S[i,j] < THR or V[i,j] < THR) or H[i,j] > 100) or (not(B[i,j] < 100)))):\n",
    "                if(G[i,j] > B[i,j] and G[i,j] > R[i,j]):\n",
    "                    qtdeVerde += 1\n",
    "                if(R[i,j] > B[i,j] and R[i,j] > G[i,j]):\n",
    "                    qtdeVermelho += 1    \n",
    "                if(B[i,j] > G[i,j] and B[i,j] > R[i,j]):\n",
    "                    qtdeAzul += 1    \n",
    "    qtdeVerde2 = qtdeVerde/(qtdeVerde+qtdeAzul+qtdeVermelho)\n",
    "    qtdeVermelho2 = qtdeVermelho/(qtdeVerde+qtdeAzul+qtdeVermelho)\n",
    "    qtdeAzul2 = qtdeAzul/(qtdeVerde+qtdeAzul+qtdeVermelho)\n",
    "    return np.append(np.append(qtdeVerde2, qtdeVermelho2),qtdeAzul2)"
   ]
  }
 ],
 "metadata": {
  "kernelspec": {
   "display_name": "Python 3",
   "language": "python",
   "name": "python3"
  },
  "language_info": {
   "codemirror_mode": {
    "name": "ipython",
    "version": 3
   },
   "file_extension": ".py",
   "mimetype": "text/x-python",
   "name": "python",
   "nbconvert_exporter": "python",
   "pygments_lexer": "ipython3",
   "version": "3.6.5"
  }
 },
 "nbformat": 4,
 "nbformat_minor": 2
}
