{
 "cells": [
  {
   "cell_type": "code",
   "execution_count": null,
   "metadata": {},
   "outputs": [],
   "source": [
    "#filtro HSV\n",
    "S[i,j] < 50 or V[i,j] < 50"
   ]
  },
  {
   "cell_type": "code",
   "execution_count": null,
   "metadata": {},
   "outputs": [],
   "source": [
    "#filtro BGR\n",
    "#perde as manchas\n",
    "#erro em imagens claras\n",
    "not (G[i,j] > B[i,j] and G[i,j] > R[i,j])"
   ]
  },
  {
   "cell_type": "code",
   "execution_count": null,
   "metadata": {},
   "outputs": [],
   "source": [
    "#filtro combinado\n",
    "# o proximo é melhor que esse\n",
    "not (G[i,j] > B[i,j] and G[i,j] > R[i,j]) and (S[i,j] < 50 or V[i,j] < 50)"
   ]
  },
  {
   "cell_type": "code",
   "execution_count": null,
   "metadata": {},
   "outputs": [],
   "source": [
    "\"\"\"best\"\"\"\n",
    "#usando H para eliminar sombras\n",
    "#porém o RGB dá erro nessa imagem 10, onde o fundo possui grandes proporcoes de verde\n",
    "#muito bom para a maioria das imagens, mas dá erro em imagens claras\n",
    "THR = 50\n",
    "(not (G[i,j] > B[i,j] and G[i,j] > R[i,j]) and (S[i,j] < THR or V[i,j] < THR)) or H[i,j] > 100"
   ]
  },
  {
   "cell_type": "code",
   "execution_count": null,
   "metadata": {},
   "outputs": [],
   "source": [
    "#filtro para remover brancos\n",
    "(B[i,j] > 80 and G[i,j] > 80 and R[i,j] > 80) and (S[i,j] < THR or V[i,j] < THR) or H[i,j] > 100"
   ]
  },
  {
   "cell_type": "code",
   "execution_count": null,
   "metadata": {},
   "outputs": [],
   "source": [
    "#em geral bom, mas dá problema com leaf_blight_imgs[7], leaf_blight_imgs[15], não elimina fundo preto, nem sombra\n",
    "#((B[i,j] > 80 and G[i,j] > 80 and R[i,j] > 80) and (S[i,j] < THR or V[i,j] < THR)) or H[i,j] > 100"
   ]
  },
  {
   "cell_type": "code",
   "execution_count": null,
   "metadata": {},
   "outputs": [],
   "source": [
    "#baseado na claridade e escuridão dos pixels\n",
    "(((B[i,j] > 80 and G[i,j] > 80 and R[i,j] > 80) or (B[i,j] < 200 and G[i,j] < 200 and R[i,j] < 200)) and (S[i,j] < THR or V[i,j] < THR)"
   ]
  },
  {
   "cell_type": "code",
   "execution_count": null,
   "metadata": {},
   "outputs": [],
   "source": [
    "#filtrando pelo blue\n",
    "not(B[i,j] < 100)"
   ]
  },
  {
   "cell_type": "code",
   "execution_count": null,
   "metadata": {},
   "outputs": [],
   "source": [
    "#aplicando azul no best\n",
    "(not (G[i,j] > B[i,j] and G[i,j] > R[i,j]) and (S[i,j] < THR or V[i,j] < THR)) or H[i,j] > 100 or not(B[i,j] < 100)"
   ]
  },
  {
   "cell_type": "code",
   "execution_count": null,
   "metadata": {},
   "outputs": [],
   "source": [
    "#segmentou massa, mas deixa passar as sombras\n",
    "not(G[i,j] > B[i,j] and G[i,j] > R[i,j]) and not(B[i,j] < 100)"
   ]
  },
  {
   "cell_type": "code",
   "execution_count": null,
   "metadata": {},
   "outputs": [],
   "source": [
    "'''new best'''\n",
    "((S[i,j] < THR or V[i,j] < THR) or H[i,j] > 100) or (not(B[i,j] < 100))"
   ]
  },
  {
   "cell_type": "code",
   "execution_count": null,
   "metadata": {},
   "outputs": [],
   "source": [
    "#filtro para remover brancos\n",
    "import numpy as np\n",
    "#leaf_blight\n",
    "def aplica_filtro(img_path): \n",
    "    img = cv2.imread(img_path)\n",
    "    qtdeLinhas, qtdeColunas, c = img.shape\n",
    "    W = np.zeros((qtdeLinhas,qtdeColunas))\n",
    "    B = img[:,:,0]\n",
    "    G = img[:,:,1]\n",
    "    R = img[:,:,2]\n",
    "\n",
    "    img = cv2.cvtColor(img, cv2.COLOR_BGR2HSV) \n",
    "\n",
    "    H = img[:,:,0]\n",
    "    S = img[:,:,1]\n",
    "    V = img[:,:,2]\n",
    "\n",
    "    THR = 50\n",
    "\n",
    "    for i in range(qtdeLinhas):\n",
    "        for j in range(qtdeColunas):\n",
    "            if(((S[i,j] < THR or V[i,j] < THR) or H[i,j] > 100) or (not(B[i,j] < 100))):\n",
    "                W[i,j] = 255\n",
    "\n",
    "    return W"
   ]
  }
 ],
 "metadata": {
  "kernelspec": {
   "display_name": "Python 3",
   "language": "python",
   "name": "python3"
  },
  "language_info": {
   "codemirror_mode": {
    "name": "ipython",
    "version": 3
   },
   "file_extension": ".py",
   "mimetype": "text/x-python",
   "name": "python",
   "nbconvert_exporter": "python",
   "pygments_lexer": "ipython3",
   "version": "3.6.5"
  }
 },
 "nbformat": 4,
 "nbformat_minor": 2
}
